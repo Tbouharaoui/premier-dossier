{
 "cells": [
  {
   "cell_type": "code",
   "execution_count": 5,
   "metadata": {},
   "outputs": [
    {
     "name": "stdout",
     "output_type": "stream",
     "text": [
      "veulliez saisir le rayon5\n",
      "veulliez saisir une hauteur10\n",
      "261.79938779914943\n"
     ]
    }
   ],
   "source": [
    "from math import*\n",
    "rayon=float(input('veulliez saisir le rayon'))\n",
    "hauteur=float(input('veulliez saisir une hauteur'))\n",
    "\n",
    "print(pi * rayon* rayon* hauteur/ 3)"
   ]
  },
  {
   "cell_type": "code",
   "execution_count": 7,
   "metadata": {},
   "outputs": [
    {
     "name": "stdout",
     "output_type": "stream",
     "text": [
      "veuillez saisir rayon2\n",
      "veuillez saisir hauteur12\n",
      "50.26548245743669\n"
     ]
    }
   ],
   "source": [
    "from math import*\n",
    "rayon=float(input('veuillez saisir rayon'))\n",
    "hauteur=float(input('veuillez saisir hauteur'))\n",
    "print(pi * rayon * rayon * hauteur/ 3)"
   ]
  },
  {
   "cell_type": "code",
   "execution_count": null,
   "metadata": {},
   "outputs": [],
   "source": []
  }
 ],
 "metadata": {
  "kernelspec": {
   "display_name": "Python 3",
   "language": "python",
   "name": "python3"
  },
  "language_info": {
   "codemirror_mode": {
    "name": "ipython",
    "version": 3
   },
   "file_extension": ".py",
   "mimetype": "text/x-python",
   "name": "python",
   "nbconvert_exporter": "python",
   "pygments_lexer": "ipython3",
   "version": "3.7.6"
  }
 },
 "nbformat": 4,
 "nbformat_minor": 4
}
