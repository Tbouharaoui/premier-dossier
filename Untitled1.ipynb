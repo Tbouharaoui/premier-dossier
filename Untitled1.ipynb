{
 "cells": [
  {
   "cell_type": "code",
   "execution_count": 3,
   "metadata": {},
   "outputs": [
    {
     "name": "stdout",
     "output_type": "stream",
     "text": [
      " entrer un nombres:70\n",
      "70  est paire.\n"
     ]
    }
   ],
   "source": [
    "a = int(input(\" entrer un nombres:\"))\n",
    "if(a%2) == 0:\n",
    "    print(a, \" est paire.\")\n",
    "else:\n",
    "    print(a, \" est impaire.\")\n",
    "\n",
    "    "
   ]
  },
  {
   "cell_type": "code",
   "execution_count": 4,
   "metadata": {},
   "outputs": [
    {
     "name": "stdout",
     "output_type": "stream",
     "text": [
      "Entrer la valeur a:25\n",
      "Entrer la valeur b:10\n",
      "Entrer la valeur c:40\n",
      "le triangle n'est pas un rectangle\n"
     ]
    }
   ],
   "source": [
    "a = int(input(\"Entrer la valeur a:\"))\n",
    "b = int(input(\"Entrer la valeur b:\"))\n",
    "c = int(input(\"Entrer la valeur c:\"))\n",
    "if a**2 == (b**2+c**2):\n",
    "    print(\"le triangle est un rectangle\")\n",
    "    \n",
    "elif b**2 == (a**2+c**2):\n",
    "    print(\"le triangle est un rectangle\")\n",
    "    \n",
    "elif c**2 == (a**2+b**2):\n",
    "    print(\"le triangle est un rectangle\")\n",
    "    \n",
    "else:\n",
    "    print(\"le triangle n'est pas un rectangle\")"
   ]
  },
  {
   "cell_type": "code",
   "execution_count": 6,
   "metadata": {},
   "outputs": [
    {
     "name": "stdout",
     "output_type": "stream",
     "text": [
      "veuillez entre un prix ht:10\n",
      "12.0\n",
      "veuillez entre un prix ht:4\n",
      "4.8\n",
      "veuillez entre un prix ht:0\n",
      "0.0\n"
     ]
    }
   ],
   "source": [
    "prixttc = 1\n",
    "while prixttc != 0:\n",
    "    prixttc = float(input('veuillez entre un prix ht:'))\n",
    "    print(prixttc * 1.2)"
   ]
  },
  {
   "cell_type": "code",
   "execution_count": 8,
   "metadata": {},
   "outputs": [
    {
     "name": "stdout",
     "output_type": "stream",
     "text": [
      "[1, 2, 3, 4, 5, 7, 8, 9]\n"
     ]
    }
   ],
   "source": [
    "L1 = [2, 7 ,3 , 1, 5, 7 ,1]\n",
    "L2 = [8, 5, 9, 4, 1, 1 ,5]\n",
    "L3 = list(set(L1 +L2))\n",
    "print(L3)\n"
   ]
  },
  {
   "cell_type": "code",
   "execution_count": 10,
   "metadata": {},
   "outputs": [
    {
     "name": "stdout",
     "output_type": "stream",
     "text": [
      "le nombre est un palindrome\n"
     ]
    }
   ],
   "source": [
    "nbr =[1 ,2 ,3 ,2, 1]\n",
    "if (nbr == nbr[::-1]):\n",
    "    print('le nombre est un palindrome')\n",
    "    \n",
    "else:\n",
    "    print('le nombre n est pas un palindrome')\n",
    "          "
   ]
  },
  {
   "cell_type": "code",
   "execution_count": 3,
   "metadata": {},
   "outputs": [
    {
     "name": "stdout",
     "output_type": "stream",
     "text": [
      "Bouharaoui Tarek 1\n",
      "Boubaker Samy 2\n",
      "Pawtowski Wilfried 3\n",
      "Jacquemin Anthony 4\n",
      "Cancian Hadrien 5\n",
      "Lesoeur Raphael 6\n",
      "Deleage Lucas 7\n",
      "Bouazza Bedra 8\n",
      "Marais Anthony 9\n",
      "Djerfi Souad 10\n",
      "Clace Lukas 11\n",
      "Fratani Karen 12\n",
      "Paul Debolina 13\n",
      "Bayet Davy 14\n",
      "El Majdoub Chourouk 15\n",
      "Ramanitrarivo Niry 16\n",
      "Moreau jonathan 17\n",
      "Beuil Alexandre 18\n",
      "Wathelet Florent 19\n",
      "Vidon Elodie 20\n",
      "Fernandes Stephane 21\n",
      "Pelliccioli Luca 22\n"
     ]
    }
   ],
   "source": [
    "from random import*\n",
    "Nom = [\"Bayet Davy\",\"Beuil Alexandre\",\"Bouazza Bedra\",\"Boubaker Samy\",\"Bouharaoui Tarek\",\"Cancian Hadrien\",\n",
    "       \"Clace Lukas\",\"Deleage Lucas\",\"Djerfi Souad\",\"El Majdoub Chourouk\",\"Fernandes Stephane\",\"Fratani Karen\"\n",
    "       ,\"Jacquemin Anthony\",\"Lesoeur Raphael\",\"Marais Anthony\",\"Paul Debolina\",\"Pawtowski Wilfried\"\n",
    "      ,\"Pelliccioli Luca\",\"Ramanitrarivo Niry\",\"Vidon Elodie\",\"Wathelet Florent\",\"Moreau jonathan\"]\n",
    "shuffle(Nom);\n",
    "\n",
    "for i in range(len(Nom)):\n",
    "    print(Nom[i],i+1)"
   ]
  },
  {
   "cell_type": "code",
   "execution_count": null,
   "metadata": {},
   "outputs": [],
   "source": []
  }
 ],
 "metadata": {
  "kernelspec": {
   "display_name": "Python 3",
   "language": "python",
   "name": "python3"
  },
  "language_info": {
   "codemirror_mode": {
    "name": "ipython",
    "version": 3
   },
   "file_extension": ".py",
   "mimetype": "text/x-python",
   "name": "python",
   "nbconvert_exporter": "python",
   "pygments_lexer": "ipython3",
   "version": "3.7.6"
  }
 },
 "nbformat": 4,
 "nbformat_minor": 4
}
